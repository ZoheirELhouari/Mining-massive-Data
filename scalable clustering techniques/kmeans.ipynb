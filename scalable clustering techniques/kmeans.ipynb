{
 "cells": [
  {
   "cell_type": "markdown",
   "metadata": {},
   "source": [
    "## Lloyd's algorithm implemantaion "
   ]
  },
  {
   "cell_type": "code",
   "execution_count": 56,
   "metadata": {},
   "outputs": [],
   "source": [
    "\n",
    "import matplotlib.pyplot as plt\n",
    "import numpy as np\n",
    "import time\n",
    "import pandas as pd \n",
    "from sklearn.metrics import normalized_mutual_info_score\n",
    "\n",
    "\n",
    "\n",
    "\n",
    "def euclidean_distance(x1, x2):\n",
    "    return np.sqrt(np.sum((x1 - x2) ** 2))\n",
    "\n",
    "def distance_norm(x1,x2,axis = 0):\n",
    "    return np.linalg.norm(x1 - x2, axis=axis)\n",
    "\n",
    "\n",
    "class KMeans:\n",
    "    def __init__(self, K=153, max_iterations=5):\n",
    "        self.K = K\n",
    "        self.max_iterations = max_iterations\n",
    "\n",
    "        # initialize a list of clusters\n",
    "        self.clusters = [[] for _ in range(self.K)]\n",
    "        # initialize an empty list of centroids\n",
    "        self.centroids = []\n",
    "\n",
    "    def predict(self, X):\n",
    "        self.X = X\n",
    "        self.n_samples, self.n_features = X.shape\n",
    "\n",
    "        # initialize random centroids \n",
    "        random_indexs = np.random.choice(self.n_samples, self.K, replace=False)\n",
    "        self.centroids = [self.X[idx] for idx in random_indexs]\n",
    "\n",
    "        # updating the clusters\n",
    "        count = 0\n",
    "        start_time = time.time()\n",
    "        for i in range(self.max_iterations):\n",
    "            # assign the points to the closest cluster \n",
    "            self.clusters = self.initialize_clusters(self.centroids)\n",
    "            # saving sa copy of the centroids in old centroids to compare it for convergence\n",
    "            old_centroids = self.centroids\n",
    "            # updating the centroids with the mean \n",
    "            self.centroids = self.reevaluate_centers(self.clusters)\n",
    "            \n",
    "            # kepping count of the iterations for convergence\n",
    "            count+=1\n",
    "            # checking for convergence \n",
    "            if self.check_convergence(old_centroids, self.centroids):\n",
    "                print(\"number of iteration to converge \" +str(count))\n",
    "                print(\"--- %s seconds to convergence---\" % (time.time() - start_time))\n",
    "                break\n",
    "\n",
    "        print(\"number of iteration: \" +str(count))\n",
    "        print(\"--- %s seconds over 5 iterations---\" % (time.time() - start_time))\n",
    "\n",
    "        # returning the clusters and the clusters labels \n",
    "        return  self.clusters , self.clusters_labels(self.clusters) , count\n",
    "\n",
    "\n",
    "    ################## helper functions ######################\n",
    "\n",
    "    def clusters_labels(self, clusters):\n",
    "        # assigning labels of the clusters to the samples assign to it \n",
    "        labels = np.empty(self.n_samples)\n",
    "\n",
    "        for cluster_idx, cluster in enumerate(clusters):\n",
    "            for sample_index in cluster:\n",
    "                labels[sample_index] = cluster_idx\n",
    "        return labels\n",
    "\n",
    "    def initialize_clusters(self, centroids):\n",
    "        # assigning the points to the closest centroids \n",
    "        clusters = [[] for _ in range(self.K)]\n",
    "        for idx, sample in enumerate(self.X):\n",
    "            centroid_idx = self.closest_centroid(sample, centroids)\n",
    "            clusters[centroid_idx].append(idx)\n",
    "        return clusters\n",
    "\n",
    "    def closest_centroid(self, sample, centroids):\n",
    "        # calculting the distance of the current point to each cluster centroid\n",
    "        distances = [euclidean_distance(sample, point) for point in centroids]\n",
    "        closest_index = np.argmin(distances)\n",
    "        return closest_index\n",
    "\n",
    "    def reevaluate_centers(self, clusters):\n",
    "        # updating the centroids of clusters with mean value \n",
    "        centroids = np.zeros((self.K, self.n_features))\n",
    "        for cluster_idx, cluster in enumerate(clusters):\n",
    "            cluster_mean = np.mean(self.X[cluster], axis=0)\n",
    "            centroids[cluster_idx] = cluster_mean\n",
    "        return centroids\n",
    "\n",
    "    def check_convergence(self, old_centroids, centroids):\n",
    "        # calculating the distance between old centroids and new centroids \n",
    "        distances = [euclidean_distance(old_centroids[i], centroids[i]) for i in range(self.K)]\n",
    "        return sum(distances) == 0\n",
    "\n",
    "    "
   ]
  },
  {
   "cell_type": "code",
   "execution_count": 57,
   "metadata": {},
   "outputs": [
    {
     "name": "stdout",
     "output_type": "stream",
     "text": [
      "number of iteration: 5\n",
      "--- 1057.2904615402222 seconds over 5 iterations---\n",
      "[ 71. 115. 149. ... 143.  88.  34.]\n",
      "\n",
      "NMI over 5 iterations:0.031049369364492797\n"
     ]
    }
   ],
   "source": [
    "# loading the data set \n",
    "data = pd.read_csv('bio_train.csv', header=None)\n",
    "# accoriding to the dataset documentation Columns 4-77 are the input features  \n",
    "X = data.values[:,3:]\n",
    "# loading the block id column to evalutate the clustering results \n",
    "Block_ID = data.values[:,0]\n",
    "# number of clusters \n",
    "K = 153\n",
    "# number of max iterations \n",
    "max_iterations = 5\n",
    "\n",
    "########### resutls #############\n",
    "kmeans = KMeans(K=K, max_iterations=max_iterations)\n",
    "clusters , predicted_labels , count = kmeans.predict(X)\n",
    "accuracy = normalized_mutual_info_score(Block_ID, predicted_labels ,average_method=\"arithmetic\") / count\n",
    "print(predicted_labels)\n",
    "print()\n",
    "print(\"NMI over \" +str(count)+\" iterations:\"+str(accuracy))\n"
   ]
  },
  {
   "cell_type": "code",
   "execution_count": 58,
   "metadata": {},
   "outputs": [
    {
     "name": "stdout",
     "output_type": "stream",
     "text": [
      "0.15524684682246398\n"
     ]
    }
   ],
   "source": [
    "accuracy = normalized_mutual_info_score(Block_ID, predicted_labels ,average_method=\"arithmetic\") \n",
    "print(accuracy)\n"
   ]
  },
  {
   "cell_type": "markdown",
   "metadata": {},
   "source": [
    "## sklearn.cluster KMeans implementation "
   ]
  },
  {
   "cell_type": "code",
   "execution_count": 60,
   "metadata": {},
   "outputs": [
    {
     "name": "stdout",
     "output_type": "stream",
     "text": [
      "0.8517726266820533\n"
     ]
    }
   ],
   "source": [
    "from sklearn.cluster import KMeans\n",
    "import numpy as np\n",
    "\n",
    "data = pd.read_csv('bio_train.csv', header=None)\n",
    "# accoriding to the dataset documentation Columns 4-77 are the input features  \n",
    "X = data.values[:,1:]\n",
    "# loading the block id column to evalutate the clustering results \n",
    "Block_ID = data.values[:,0]\n",
    "# number of clusters \n",
    "K = 153\n",
    "# number of max iterations \n",
    "max_iterations = 5\n",
    "kmeans = KMeans(n_clusters=K, random_state=0).fit(X)\n",
    "accuracy = normalized_mutual_info_score(Block_ID, kmeans.labels_ ,average_method=\"arithmetic\") \n",
    "print(accuracy)\n"
   ]
  }
 ],
 "metadata": {
  "kernelspec": {
   "display_name": "Python 3",
   "language": "python",
   "name": "python3"
  },
  "language_info": {
   "codemirror_mode": {
    "name": "ipython",
    "version": 3
   },
   "file_extension": ".py",
   "mimetype": "text/x-python",
   "name": "python",
   "nbconvert_exporter": "python",
   "pygments_lexer": "ipython3",
   "version": "3.11.0"
  },
  "orig_nbformat": 4,
  "vscode": {
   "interpreter": {
    "hash": "532e70acd68d3cc24ab9979f670886f8bf86406724bf6719d1cdc06b9930ad78"
   }
  }
 },
 "nbformat": 4,
 "nbformat_minor": 2
}
